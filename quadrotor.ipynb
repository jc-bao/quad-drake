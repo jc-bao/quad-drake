{
 "cells": [
  {
   "cell_type": "code",
   "execution_count": 1,
   "metadata": {},
   "outputs": [],
   "source": [
    "import math\n",
    "\n",
    "import matplotlib.pyplot as plt\n",
    "import mpld3\n",
    "import numpy as np\n",
    "from IPython.display import HTML, display,SVG\n",
    "import pydot\n",
    "from pydrake.all import (\n",
    "    AddMultibodyPlantSceneGraph,\n",
    "    ControllabilityMatrix,\n",
    "    DiagramBuilder,\n",
    "    Linearize,\n",
    "    LinearQuadraticRegulator,\n",
    "    MeshcatVisualizer,\n",
    "    AddDefaultVisualization,\n",
    "    MultibodyPlant,\n",
    "    Parser,\n",
    "    Propeller,\n",
    "    PropellerInfo,\n",
    "    RigidTransform,\n",
    "    Saturation,\n",
    "    SceneGraph,\n",
    "    Simulator,\n",
    "    StartMeshcat,\n",
    "    WrapToSystem,\n",
    "    namedview,\n",
    ")\n",
    "from pydrake.examples import (\n",
    "    AcrobotGeometry,\n",
    "    AcrobotInput,\n",
    "    AcrobotPlant,\n",
    "    AcrobotState,\n",
    "    QuadrotorGeometry,\n",
    "    QuadrotorPlant,\n",
    "    StabilizingLQRController,\n",
    ")\n",
    "from pydrake.solvers import MathematicalProgram, Solve\n",
    "\n",
    "from underactuated import ConfigureParser, running_as_notebook\n",
    "from underactuated.meshcat_utils import MeshcatSliders\n",
    "from underactuated.quadrotor2d import Quadrotor2D, Quadrotor2DVisualizer\n",
    "from underactuated.scenarios import AddFloatingRpyJoint\n",
    "\n",
    "if running_as_notebook:\n",
    "    mpld3.enable_notebook()"
   ]
  },
  {
   "cell_type": "code",
   "execution_count": 2,
   "metadata": {},
   "outputs": [
    {
     "name": "stderr",
     "output_type": "stream",
     "text": [
      "INFO:drake:Meshcat listening for connections at http://localhost:7001\n"
     ]
    }
   ],
   "source": [
    "# Start the visualizer (run this cell only once, each instance consumes a port)\n",
    "meshcat = StartMeshcat()"
   ]
  },
  {
   "cell_type": "code",
   "execution_count": 3,
   "metadata": {},
   "outputs": [],
   "source": [
    "time_step = 1.0/60.0\n",
    "test_mode = False"
   ]
  },
  {
   "cell_type": "code",
   "execution_count": 4,
   "metadata": {},
   "outputs": [
    {
     "ename": "RuntimeError",
     "evalue": "DiagramBuilder does not contain a subsystem named plant",
     "output_type": "error",
     "traceback": [
      "\u001b[0;31m---------------------------------------------------------------------------\u001b[0m",
      "\u001b[0;31mRuntimeError\u001b[0m                              Traceback (most recent call last)",
      "Cell \u001b[0;32mIn[4], line 22\u001b[0m\n\u001b[1;32m     14\u001b[0m AddFloatingRpyJoint(\n\u001b[1;32m     15\u001b[0m     body,\n\u001b[1;32m     16\u001b[0m     body\u001b[39m.\u001b[39mGetFrameByName(\u001b[39m\"\u001b[39m\u001b[39mbase_link\u001b[39m\u001b[39m\"\u001b[39m),\n\u001b[1;32m     17\u001b[0m     model_instance,\n\u001b[1;32m     18\u001b[0m     use_ball_rpy\u001b[39m=\u001b[39m\u001b[39mFalse\u001b[39;00m,\n\u001b[1;32m     19\u001b[0m )\n\u001b[1;32m     20\u001b[0m body\u001b[39m.\u001b[39mFinalize()\n\u001b[0;32m---> 22\u001b[0m AddDefaultVisualization(builder\u001b[39m=\u001b[39;49mbuilder, meshcat\u001b[39m=\u001b[39;49mmeshcat)\n\u001b[1;32m     24\u001b[0m \u001b[39m# connect propellers to the body\u001b[39;00m\n\u001b[1;32m     25\u001b[0m body_index \u001b[39m=\u001b[39m body\u001b[39m.\u001b[39mGetBodyByName(\u001b[39m\"\u001b[39m\u001b[39mbase_link\u001b[39m\u001b[39m\"\u001b[39m)\u001b[39m.\u001b[39mindex()\n",
      "\u001b[0;31mRuntimeError\u001b[0m: DiagramBuilder does not contain a subsystem named plant"
     ]
    }
   ],
   "source": [
    "# Clean up the Meshcat instance.\n",
    "meshcat.Delete()\n",
    "meshcat.DeleteAddedControls()\n",
    "\n",
    "# Setup builder and scene.\n",
    "builder = DiagramBuilder()\n",
    "body = builder.AddSystem(MultibodyPlant(0.0))\n",
    "parser = Parser(body)\n",
    "\n",
    "# Load models\n",
    "(model_instance,) = parser.AddModelsFromUrl(\n",
    "    \"package://drake/examples/quadrotor/quadrotor.urdf\"\n",
    ")\n",
    "AddFloatingRpyJoint(\n",
    "    body,\n",
    "    body.GetFrameByName(\"base_link\"),\n",
    "    model_instance,\n",
    "    use_ball_rpy=False,\n",
    ")\n",
    "body.Finalize()\n",
    "\n",
    "# connect propellers to the body\n",
    "body_index = body.GetBodyByName(\"base_link\").index()\n",
    "L = 0.15  # Length of the arms (m).\n",
    "kF = 1.0  # Force input constant.\n",
    "kM = 0.0245  # Moment input constant.\n",
    "prop_info = [\n",
    "    PropellerInfo(body_index, RigidTransform([L, 0, 0]), kF, kM),\n",
    "    PropellerInfo(body_index, RigidTransform([0, L, 0]), kF, -kM),\n",
    "    PropellerInfo(body_index, RigidTransform([-L, 0, 0]), kF, kM),\n",
    "    PropellerInfo(body_index, RigidTransform([0, -L, 0]), kF, -kM),\n",
    "]\n",
    "propellers = builder.AddSystem(Propeller(prop_info))\n",
    "builder.Connect(\n",
    "    propellers.get_output_port(),\n",
    "    body.get_applied_spatial_force_input_port(),\n",
    ")\n",
    "builder.Connect(\n",
    "    body.get_body_poses_output_port(),\n",
    "    propellers.get_body_poses_input_port(),\n",
    ")\n",
    "builder.ExportInput(propellers.get_command_input_port(), \"u\")\n",
    "\n",
    "quadrotor = builder.Build()"
   ]
  },
  {
   "cell_type": "code",
   "execution_count": null,
   "metadata": {},
   "outputs": [],
   "source": [
    "# initial conditions\n",
    "state_view = namedview(\"state\", body.GetStateNames(False))\n",
    "context = quadrotor.CreateDefaultContext()\n",
    "nominal_state = state_view.Zero()\n",
    "nominal_state.z_x = 1.0\n",
    "context.SetContinuousState(nominal_state[:])\n",
    "\n",
    "# get parameters\n",
    "mass = body.CalcTotalMass(body.GetMyContextFromRoot(context))\n",
    "gravity = body.gravity_field().gravity_vector()[2]\n",
    "nominal_input = [-mass * gravity / 4] * 4\n",
    "\n",
    "# setup controller\n",
    "quadrotor.get_input_port().FixValue(context, nominal_input)\n",
    "Q = np.diag(np.concatenate(([10] * 6, [1] * 6)))\n",
    "R = np.eye(4)\n",
    "controller = LinearQuadraticRegulator(quadrotor, context, Q, R)\n",
    "\n",
    "# setup diagram\n",
    "global_builder = DiagramBuilder()\n",
    "global_builder.AddSystem(quadrotor)\n",
    "global_builder.AddSystem(controller)\n",
    "global_builder.Connect(controller.get_output_port(), quadrotor.get_input_port())\n",
    "\n",
    "# setup visualizer\n",
    "# Build the diagram\n",
    "quadrotor_control = global_builder.Build()\n",
    "# Visualize the diagram.\n",
    "display(SVG(pydot.graph_from_dot_data(\n",
    "    quadrotor_control.GetGraphvizString(max_depth=2))[0].create_svg()))\n",
    "\n",
    "# run simulation\n",
    "simulator = Simulator(quadrotor_control)\n",
    "simulator.Initialize()\n",
    "simulator.set_target_realtime_rate(1.)\n",
    "meshcat.StartRecording()\n",
    "finish_time = 0.1 if test_mode else 2.0\n",
    "simulator.AdvanceTo(finish_time)\n",
    "meshcat.PublishRecording()"
   ]
  }
 ],
 "metadata": {
  "kernelspec": {
   "display_name": "drake",
   "language": "python",
   "name": "python3"
  },
  "language_info": {
   "codemirror_mode": {
    "name": "ipython",
    "version": 3
   },
   "file_extension": ".py",
   "mimetype": "text/x-python",
   "name": "python",
   "nbconvert_exporter": "python",
   "pygments_lexer": "ipython3",
   "version": "3.11.4"
  },
  "orig_nbformat": 4
 },
 "nbformat": 4,
 "nbformat_minor": 2
}
